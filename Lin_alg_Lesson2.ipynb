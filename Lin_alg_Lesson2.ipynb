{
 "cells": [
  {
   "cell_type": "markdown",
   "metadata": {},
   "source": [
    "### Практическое задание ко второму уроку\n",
    "\n",
    "Все задания рекомендуется делать вручную, затем проверяя полученные результаты с использованием numpy.\n",
    "\n",
    "__1.__ Установить, какие произведения матриц $AB$ и $BA$ определены, и найти размерности полученных матриц:\n",
    "\n",
    "   а) $A$ — матрица $4\\times 2$, $B$ — матрица $4\\times 2$;\n",
    "    \n",
    "   б) $A$ — матрица $2\\times 5$, $B$ — матрица $5\\times 3$;\n",
    "    \n",
    "   в) $A$ — матрица $8\\times 3$, $B$ — матрица $3\\times 8$;\n",
    "    \n",
    "   г) $A$ — квадратная матрица $4\\times 4$, $B$ — квадратная матрица $4\\times 4$.\n"
   ]
  },
  {
   "cell_type": "markdown",
   "metadata": {},
   "source": [
    "__Ответ:__\n",
    "\n",
    "   а) Матрицы не перемножаются, количество строк первого не равно количеству столбцов второго;\n",
    "    \n",
    "   б) Можно перемножить только $B$ на $A$, размерность 3х2 ;\n",
    "    \n",
    "   в) Определены оба произведения, размерность 8х8, при обратном 3х3 ;\n",
    "    \n",
    "   г) Определены оба произведения, размерность 4х4 в обоих случаях ."
   ]
  },
  {
   "cell_type": "code",
   "execution_count": 1,
   "metadata": {},
   "outputs": [],
   "source": [
    "import numpy as np"
   ]
  },
  {
   "cell_type": "code",
   "execution_count": 2,
   "metadata": {},
   "outputs": [
    {
     "name": "stdout",
     "output_type": "stream",
     "text": [
      "Матрица A\n",
      "[[ 1  0]\n",
      " [ 2  1]\n",
      " [10  5]\n",
      " [10  5]]\n",
      "Матрица B\n",
      "[[ 1  0]\n",
      " [ 2  1]\n",
      " [10  5]\n",
      " [10  5]]\n"
     ]
    },
    {
     "ename": "ValueError",
     "evalue": "shapes (4,2) and (4,2) not aligned: 2 (dim 1) != 4 (dim 0)",
     "output_type": "error",
     "traceback": [
      "\u001b[1;31m---------------------------------------------------------------------------\u001b[0m",
      "\u001b[1;31mValueError\u001b[0m                                Traceback (most recent call last)",
      "\u001b[1;32m<ipython-input-2-50c578992f3a>\u001b[0m in \u001b[0;36m<module>\u001b[1;34m\u001b[0m\n\u001b[0;32m      4\u001b[0m \u001b[0mprint\u001b[0m\u001b[1;33m(\u001b[0m\u001b[1;34mf'Матрица A\\n{A}'\u001b[0m\u001b[1;33m)\u001b[0m\u001b[1;33m\u001b[0m\u001b[1;33m\u001b[0m\u001b[0m\n\u001b[0;32m      5\u001b[0m \u001b[0mprint\u001b[0m\u001b[1;33m(\u001b[0m\u001b[1;34mf'Матрица B\\n{B}'\u001b[0m\u001b[1;33m)\u001b[0m\u001b[1;33m\u001b[0m\u001b[1;33m\u001b[0m\u001b[0m\n\u001b[1;32m----> 6\u001b[1;33m \u001b[0mprint\u001b[0m\u001b[1;33m(\u001b[0m\u001b[1;34mf'Матрица AB\\n{np.dot(A, B)}'\u001b[0m\u001b[1;33m)\u001b[0m\u001b[1;33m\u001b[0m\u001b[1;33m\u001b[0m\u001b[0m\n\u001b[0m",
      "\u001b[1;31mValueError\u001b[0m: shapes (4,2) and (4,2) not aligned: 2 (dim 1) != 4 (dim 0)"
     ]
    }
   ],
   "source": [
    "A = np.array([[1, 0], [2, 1], [10, 5], [10, 5]])\n",
    "B = np.array([[1, 0], [2, 1], [10, 5], [10, 5]])\n",
    "\n",
    "print(f'Матрица A\\n{A}')\n",
    "print(f'Матрица B\\n{B}')\n",
    "print(f'Матрица AB\\n{np.dot(A, B)}')"
   ]
  },
  {
   "cell_type": "code",
   "execution_count": 3,
   "metadata": {},
   "outputs": [
    {
     "name": "stdout",
     "output_type": "stream",
     "text": [
      "Матрица A\n",
      "[[ 1  0]\n",
      " [ 2  1]\n",
      " [10  3]\n",
      " [10  5]\n",
      " [13  2]]\n",
      "Матрица B\n",
      "[[2 4 1 1 9]\n",
      " [2 5 3 1 9]\n",
      " [2 7 4 8 9]]\n",
      "Матрица BA\n",
      "[[147  30]\n",
      " [169  37]\n",
      " [253  77]]\n"
     ]
    }
   ],
   "source": [
    "A = np.array([[1, 0], [2, 1], [10, 3], [10, 5], [13, 2]])\n",
    "B = np.array([[2, 4, 1, 1, 9], [2, 5, 3, 1, 9], [2, 7, 4, 8, 9]])\n",
    "\n",
    "print(f'Матрица A\\n{A}')\n",
    "print(f'Матрица B\\n{B}')\n",
    "print(f'Матрица BA\\n{np.dot(B, A)}')"
   ]
  },
  {
   "cell_type": "code",
   "execution_count": 4,
   "metadata": {},
   "outputs": [
    {
     "name": "stdout",
     "output_type": "stream",
     "text": [
      "Матрица A\n",
      "[[ 1  0  3]\n",
      " [ 2  1  5]\n",
      " [10  3  7]\n",
      " [10  5  8]\n",
      " [13  2 31]\n",
      " [17  2  3]\n",
      " [ 3  5 31]\n",
      " [13  7  1]]\n",
      "Матрица B\n",
      "[[ 2  4  1  1  9  2  1  5]\n",
      " [ 2  5  3  1  9 10  3  7]\n",
      " [ 2  7  4  8  9 13  2 31]]\n",
      "Матрица AB\n",
      "[[   8   25   13   25   36   41    7   98]\n",
      " [  16   48   25   43   72   79   15  172]\n",
      " [  40  104   47   69  180  141   33  288]\n",
      " [  46  121   57   79  207  174   41  333]\n",
      " [  92  279  143  263  414  449   81 1040]\n",
      " [  44   99   35   43  198   93   29  192]\n",
      " [  78  254  142  256  351  459   80 1011]\n",
      " [  42   94   38   28  189  109   36  145]]\n",
      "Матрица BA\n",
      "[[249  74 362]\n",
      " [439 121 469]\n",
      " [883 330 544]]\n"
     ]
    }
   ],
   "source": [
    "A = np.array([[1, 0, 3], [2, 1, 5], [10, 3, 7], [10, 5, 8], [13, 2, 31], [17, 2, 3], [3, 5, 31], [13, 7, 1]])\n",
    "B = np.array([[2, 4, 1, 1, 9, 2, 1, 5], [2, 5, 3, 1, 9, 10, 3, 7], [2, 7, 4, 8, 9, 13, 2, 31]])\n",
    "\n",
    "print(f'Матрица A\\n{A}')\n",
    "print(f'Матрица B\\n{B}')\n",
    "print(f'Матрица AB\\n{np.dot(A, B)}')\n",
    "print(f'Матрица BA\\n{np.dot(B, A)}')"
   ]
  },
  {
   "cell_type": "code",
   "execution_count": 5,
   "metadata": {},
   "outputs": [
    {
     "name": "stdout",
     "output_type": "stream",
     "text": [
      "Матрица A\n",
      "[[9 4 5 1]\n",
      " [2 3 8 4]\n",
      " [2 5 6 8]\n",
      " [5 2 1 4]]\n",
      "Матрица B\n",
      "[[2 4 1 1]\n",
      " [2 5 3 1]\n",
      " [2 7 4 8]\n",
      " [9 2 1 5]]\n",
      "Матрица AB\n",
      "[[45 93 42 58]\n",
      " [62 87 47 89]\n",
      " [98 91 49 95]\n",
      " [52 45 19 35]]\n",
      "Матрица BA\n",
      "[[ 33  27  49  30]\n",
      " [ 39  40  69  50]\n",
      " [ 80  65  98  94]\n",
      " [112  57  72  45]]\n"
     ]
    }
   ],
   "source": [
    "A = np.array([[9, 4, 5, 1], [2, 3, 8, 4], [2, 5, 6, 8], [5, 2, 1, 4]])\n",
    "B = np.array([[2, 4, 1, 1], [2, 5, 3, 1], [2, 7, 4, 8], [9, 2, 1, 5]])\n",
    "\n",
    "print(f'Матрица A\\n{A}')\n",
    "print(f'Матрица B\\n{B}')\n",
    "print(f'Матрица AB\\n{np.dot(A, B)}')\n",
    "print(f'Матрица BA\\n{np.dot(B, A)}')"
   ]
  },
  {
   "cell_type": "code",
   "execution_count": null,
   "metadata": {},
   "outputs": [],
   "source": []
  },
  {
   "cell_type": "markdown",
   "metadata": {},
   "source": [
    "__2.__ Найти сумму и произведение матриц $A=\\begin{pmatrix}\n",
    "1 & -2\\\\ \n",
    "3 & 0\n",
    "\\end{pmatrix}$ и $B=\\begin{pmatrix}\n",
    "4 & -1\\\\ \n",
    "0 & 5\n",
    "\\end{pmatrix}.$"
   ]
  },
  {
   "cell_type": "markdown",
   "metadata": {},
   "source": [
    "__Ответ:__\n",
    "$$\\begin{pmatrix}\n",
    "1 + 4 & -2 -1 \\\\ \n",
    "3 + 0 & 0 + 5 \\\\  \n",
    "\\end{pmatrix}=\\begin{pmatrix}\n",
    "5 & -3 \\\\ \n",
    "3 &  5 \\\\  \n",
    "\\end{pmatrix}$$\n",
    "\n",
    "$$A\\cdot B=\\begin{pmatrix}\n",
    "1\\cdot4+(-2)\\cdot0 & 1\\cdot(-1)+(-2)\\cdot5 \\\\\n",
    "3\\cdot4+0\\cdot0 & 3\\cdot(-1)+0\\cdot5 \\\\ \n",
    "\\end{pmatrix}=\\begin{pmatrix}\n",
    "4 & -11 \\\\ \n",
    "12 & -3 \\\\ \n",
    "\\end{pmatrix}.$$"
   ]
  },
  {
   "cell_type": "markdown",
   "metadata": {},
   "source": []
  },
  {
   "cell_type": "code",
   "execution_count": 6,
   "metadata": {},
   "outputs": [
    {
     "name": "stdout",
     "output_type": "stream",
     "text": [
      "Матрица A\n",
      "[[ 1 -2]\n",
      " [ 3  0]]\n",
      "Матрица B\n",
      "[[ 4 -1]\n",
      " [ 0  5]]\n",
      "Матрица A + B\n",
      "[[ 5 -3]\n",
      " [ 3  5]]\n",
      "Матрица AB\n",
      "[[  4 -11]\n",
      " [ 12  -3]]\n"
     ]
    }
   ],
   "source": [
    "A = np.array([[1, -2], [3, 0]])\n",
    "B = np.array([[4, -1], [0, 5]])\n",
    "\n",
    "print(f'Матрица A\\n{A}')\n",
    "print(f'Матрица B\\n{B}')\n",
    "print(f'Матрица A + B\\n{A + B}')\n",
    "print(f'Матрица AB\\n{np.dot(A, B)}')"
   ]
  },
  {
   "cell_type": "code",
   "execution_count": null,
   "metadata": {},
   "outputs": [],
   "source": []
  },
  {
   "cell_type": "markdown",
   "metadata": {},
   "source": [
    "__3.__ Из закономерностей сложения и умножения матриц на число можно сделать вывод, что матрицы одного размера образуют линейное пространство. Вычислить линейную комбинацию $3A-2B+4C$ для матриц $A=\\begin{pmatrix}\n",
    "1 & 7\\\\ \n",
    "3 & -6\n",
    "\\end{pmatrix}$, $B=\\begin{pmatrix}\n",
    "0 & 5\\\\ \n",
    "2 & -1\n",
    "\\end{pmatrix}$, $C=\\begin{pmatrix}\n",
    "2 & -4\\\\ \n",
    "1 & 1\n",
    "\\end{pmatrix}.$"
   ]
  },
  {
   "cell_type": "code",
   "execution_count": null,
   "metadata": {},
   "outputs": [],
   "source": []
  },
  {
   "cell_type": "code",
   "execution_count": null,
   "metadata": {},
   "outputs": [],
   "source": []
  },
  {
   "cell_type": "code",
   "execution_count": null,
   "metadata": {},
   "outputs": [],
   "source": []
  },
  {
   "cell_type": "markdown",
   "metadata": {},
   "source": [
    "__4.__ Дана матрица $A=\\begin{pmatrix}\n",
    "4 & 1\\\\ \n",
    "5 & -2\\\\ \n",
    "2 & 3\n",
    "\\end{pmatrix}$.\n",
    "Вычислить $AA^{T}$ и $A^{T}A$."
   ]
  },
  {
   "cell_type": "code",
   "execution_count": null,
   "metadata": {},
   "outputs": [],
   "source": []
  },
  {
   "cell_type": "code",
   "execution_count": 14,
   "metadata": {},
   "outputs": [
    {
     "name": "stdout",
     "output_type": "stream",
     "text": [
      "Матрица A\n",
      "[[ 4  1]\n",
      " [ 5 -2]\n",
      " [ 2  3]]\n",
      "Матрица AT\n",
      "[[ 4  5  2]\n",
      " [ 1 -2  3]]\n",
      "Матрица A*AT\n",
      "[[17 18 11]\n",
      " [18 29  4]\n",
      " [11  4 13]]\n",
      "Матрица AT*A\n",
      "[[45  0]\n",
      " [ 0 14]]\n"
     ]
    }
   ],
   "source": [
    "A = np.array([[4, 1], [5, -2], [2, 3]])\n",
    "\n",
    "print(f'Матрица A\\n{A}')\n",
    "print(f'Матрица AT\\n{A.T}')\n",
    "print(f'Матрица A*AT\\n{np.dot(A, A.T)}')\n",
    "print(f'Матрица AT*A\\n{np.dot(A.T, A)}')"
   ]
  },
  {
   "cell_type": "code",
   "execution_count": null,
   "metadata": {},
   "outputs": [],
   "source": []
  },
  {
   "cell_type": "code",
   "execution_count": null,
   "metadata": {},
   "outputs": [],
   "source": []
  },
  {
   "cell_type": "markdown",
   "metadata": {},
   "source": [
    "__5*.__ Написать на Python функцию для перемножения двух произвольных матриц, не используя NumPy."
   ]
  },
  {
   "cell_type": "code",
   "execution_count": 8,
   "metadata": {},
   "outputs": [],
   "source": [
    "def dot_matrix(A, B):\n",
    "    rowA, columnA = A.shape[0], A.shape[1]\n",
    "    rowB, columnB = B.shape[0], B.shape[1]\n",
    "    if columnA != rowB:\n",
    "        print(f'Матрицы не перемножаются')\n",
    "    else:\n",
    "        Matrix = [[0 for x in range(columnB)] for y in range(rowA)]\n",
    "        print(Matrix)\n",
    "        for i in range(rowA):\n",
    "            for j in range(columnB):\n",
    "                counter = 0\n",
    "                while counter < columnA:\n",
    "                    Matrix[i][j] += A[i][counter] * B[counter][j]\n",
    "                    counter += 1\n",
    "    return Matrix"
   ]
  },
  {
   "cell_type": "code",
   "execution_count": 9,
   "metadata": {},
   "outputs": [
    {
     "name": "stdout",
     "output_type": "stream",
     "text": [
      "Матрица AB\n",
      "[[  4 -11]\n",
      " [ 12  -3]\n",
      " [ 36  16]]\n",
      "[[0, 0], [0, 0], [0, 0]]\n",
      "[[4, -11], [12, -3], [36, 16]]\n",
      "0\n",
      "[[ 1 -2]\n",
      " [ 3  0]\n",
      " [ 9  5]]\n"
     ]
    }
   ],
   "source": [
    "A = np.array([[1, -2], [3, 0], [9, 5]])\n",
    "B = np.array([[4, -1], [0, 5]])\n",
    "\n",
    "print(f'Матрица AB\\n{np.dot(A, B)}')\n",
    "\n",
    "print(dot_matrix(A, B))\n",
    "\n",
    "print(A[1][1])\n",
    "print(A)"
   ]
  },
  {
   "cell_type": "code",
   "execution_count": 10,
   "metadata": {},
   "outputs": [
    {
     "data": {
      "text/plain": [
       "2"
      ]
     },
     "execution_count": 10,
     "metadata": {},
     "output_type": "execute_result"
    }
   ],
   "source": [
    "A.shape[1]"
   ]
  },
  {
   "cell_type": "markdown",
   "metadata": {},
   "source": [
    "#### Практические задания из Методички 4\n",
    "\n",
    "Все задания рекомендуется выполнять вручную, затем проверяя полученные результаты с использованием Numpy.\n",
    "\n",
    "__1.__ Вычислить определитель:\n",
    "\n",
    "   a)\n",
    "\n",
    "$$\\begin{vmatrix}\n",
    "sinx & -cosx\\\\ \n",
    "cosx & sinx\n",
    "\\end{vmatrix};$$\n",
    "\n",
    "   б)\n",
    "    \n",
    "$$\\begin{vmatrix}\n",
    "4 & 2 & 3\\\\ \n",
    "0 & 5 & 1\\\\ \n",
    "0 & 0 & 9\n",
    "\\end{vmatrix};$$\n",
    "    \n",
    "   в)\n",
    "\n",
    "$$\\begin{vmatrix}\n",
    "1 & 2 & 3\\\\ \n",
    "4 & 5 & 6\\\\ \n",
    "7 & 8 & 9\n",
    "\\end{vmatrix}.$$\n",
    "\n",
    "\n",
    "__2.__ Определитель матрицы $A$ равен $4$. Найти:\n",
    "\n",
    "   а) $det(A^{2})$;\n",
    "    \n",
    "   б) $det(A^{T})$;\n",
    "    \n",
    "   в) $det(2A)$.\n",
    "   \n",
    "__3.__  Доказать, что матрица\n",
    "\n",
    "$$\\begin{pmatrix}\n",
    "-2 & 7 & -3\\\\ \n",
    "4 & -14 & 6\\\\ \n",
    "-3 & 7 & 13\n",
    "\\end{pmatrix}$$\n",
    "   \n",
    "вырожденная.\n",
    "\n",
    "__4.__ Найти ранг матрицы:\n",
    "\n",
    "   а) $\\begin{pmatrix}\n",
    "1 & 2 & 3\\\\ \n",
    "1 & 1 & 1\\\\ \n",
    "2 & 3 & 4\n",
    "\\end{pmatrix};$\n",
    "\n",
    "   б) $\\begin{pmatrix}\n",
    "0 & 0 & 2 & 1\\\\ \n",
    "0 & 0 & 2 & 2\\\\ \n",
    "0 & 0 & 4 & 3\\\\ \n",
    "2 & 3 & 5 & 6\n",
    "\\end{pmatrix}.$"
   ]
  },
  {
   "cell_type": "markdown",
   "metadata": {},
   "source": [
    "__Ответ 1__\n",
    "\n",
    "а)\n",
    "$$\\begin{vmatrix}\n",
    "sinx & -cosx\\\\ \n",
    "cosx & sinx\n",
    "\\end{vmatrix}$$ = $$sin^{2}x -(-cos^{2}x)$$ = 1\n",
    "\n",
    "б)\n",
    "$$\\begin{vmatrix}\n",
    "4 & 2 & 3\\\\ \n",
    "0 & 5 & 1\\\\ \n",
    "0 & 0 & 9\n",
    "\\end{vmatrix};$$ = $$"
   ]
  },
  {
   "cell_type": "code",
   "execution_count": 20,
   "metadata": {},
   "outputs": [
    {
     "data": {
      "text/plain": [
       "180.0"
      ]
     },
     "execution_count": 20,
     "metadata": {},
     "output_type": "execute_result"
    }
   ],
   "source": [
    "B = np.matrix('4, 2, 3; 0, 5, 1; 0, 0, 9')\n",
    "np.linalg.det(B)"
   ]
  },
  {
   "cell_type": "code",
   "execution_count": null,
   "metadata": {},
   "outputs": [],
   "source": []
  }
 ],
 "metadata": {
  "kernelspec": {
   "display_name": "Python 3",
   "language": "python",
   "name": "python3"
  },
  "language_info": {
   "codemirror_mode": {
    "name": "ipython",
    "version": 3
   },
   "file_extension": ".py",
   "mimetype": "text/x-python",
   "name": "python",
   "nbconvert_exporter": "python",
   "pygments_lexer": "ipython3",
   "version": "3.7.3"
  }
 },
 "nbformat": 4,
 "nbformat_minor": 2
}
