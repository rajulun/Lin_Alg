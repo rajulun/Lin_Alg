{
 "cells": [
  {
   "cell_type": "markdown",
   "metadata": {},
   "source": [
    "## Практическое задание к 4-му уроку"
   ]
  },
  {
   "cell_type": "markdown",
   "metadata": {},
   "source": [
    "__1.__ Решить систему уравнений методом Гаусса:\n",
    "\n",
    "$$\\begin{cases}\n",
    "x_{1}+x_{2}-x_{3}-2x_{4}=0, \\\\\n",
    "2x_{1}+x_{2}-x_{3}+x_{4}=-2, \\\\\n",
    "x_{1}+x_{2}-3x_{3}+x_{4}=4.\n",
    "\\end{cases}$$\n",
    "\n"
   ]
  },
  {
   "cell_type": "code",
   "execution_count": 1,
   "metadata": {},
   "outputs": [],
   "source": [
    "import numpy as np"
   ]
  },
  {
   "cell_type": "code",
   "execution_count": 2,
   "metadata": {},
   "outputs": [],
   "source": [
    "def calc_solve_count(A, b, n):\n",
    "    rnk_A = np.linalg.matrix_rank(A)\n",
    "    rnk_Ab = np.linalg.matrix_rank(np.hstack((A, b)))\n",
    "    if  rnk_A == rnk_Ab == n:   #если ранк А = ранк б и они равны количеству уравнений\n",
    "        print(\"rank А = \", rnk_A)\n",
    "        print(\"rank b = \", rnk_Ab)\n",
    "        print(\"количество уравнений = \", n)\n",
    "        return 'Cистема имеет единственное решение'\n",
    "    elif (rnk_A == rnk_Ab) and (rnk_A < n):  #если ранк А = ранк б и они меньше количества уравнений\n",
    "        print(\"rank А = \", rnk_A)\n",
    "        print(\"rank b = \", rnk_Ab)\n",
    "        print(\"количество уравнений = \", n)\n",
    "        return 'Cистема имеет бесконечное количество решений'\n",
    "    elif rnk_A < rnk_Ab:   #если ранк А не раен ранку б\n",
    "        print(\"rank А = \", rnk_A)\n",
    "        print(\"rank b = \", rnk_Ab)\n",
    "        print(\"количество уравнений = \", n)\n",
    "        return 'Cистема несовместна'"
   ]
  },
  {
   "cell_type": "code",
   "execution_count": 3,
   "metadata": {},
   "outputs": [
    {
     "name": "stdout",
     "output_type": "stream",
     "text": [
      "rank А =  3\n",
      "rank b =  3\n",
      "количество уравнений =  4\n"
     ]
    },
    {
     "data": {
      "text/plain": [
       "'Cистема имеет бесконечное количество решений'"
      ]
     },
     "execution_count": 3,
     "metadata": {},
     "output_type": "execute_result"
    }
   ],
   "source": [
    "A = np.array([[1, 1, -1, -2], [2, 1, -1, 1], [1, 1, -3, 1]])\n",
    "b = np.array([0, -2, 4]).reshape(-1, 1)\n",
    "# matrix = [[1,1,-1,-2,0],\n",
    "#          [2,1,-1,1,-2],\n",
    "#          [1,1,-3,1,4]]\n",
    "# print(gaussFunc(matrix))\n",
    "# print(myGauss(matrix))\n",
    "calc_solve_count(A, b, 4)\n",
    "# x = np.linalg.solve(A, b)"
   ]
  },
  {
   "cell_type": "markdown",
   "metadata": {},
   "source": [
    "Запишем систему линейных ур-ний в матричном виде\n",
    "$$\\left[\\begin{matrix}1 & 1 & -1 & -2 & 0\\\\2 & 1 & -1 & 1 & -2\\\\1 & 1 & -3 & 1 & 4\\end{matrix}\\right]$$\n",
    "__Первый этап. Прямой ход Гаусса.__\n",
    "\n",
    "Исключим элементы 1-го столбца матрицы ниже элемента a1,1. Для этого сложим строки 2,3 со строкой 1, умноженной на -2,-1 соответственно:\n",
    "\n",
    "$$\\left[\\begin{matrix}1 & 1 & -1 & -2 & 0\\\\0 & -1 & 1 & 5 & -2\\\\0 & 0 & -2 & 3 & 4\\end{matrix}\\right]$$\n",
    "\n",
    "Делим каждую строку матрицы на соответствующий ведущий элемент (если ведущий элемент существует):\n",
    "\n",
    "$$\\left[\\begin{matrix}1 & 1 & -1 & -2 & 0\\\\0 & 1 & -1 & -5 & 2\\\\0 & 0 & 1 & -\\frac{3}{2} & -2\\end{matrix}\\right]$$\n",
    "\n",
    "Из расширенной матрицы восстановим систему линейных уравнений:\n",
    "\n",
    "$$\\begin{cases}\n",
    "x_{1} + x_{2} - x_{3} - 2 * x_{4} = 0, \\\\\n",
    "0 * x_{1} + x_{2} - x_{3} - 5 * x_{4} = 2, \\\\\n",
    "0 * x_{1}+0 * x_{2} + x_{3} - \\frac{3}{2} * x_{4} = 2.\n",
    "\\end{cases}$$\n",
    "\n",
    "Базисные переменные x1, x2, x3, свободные переменные x4.\n",
    "\n",
    "Выразив переменные x1, x2, x3 через остальные, получим:\n",
    "\n",
    "$$x_{1} = −1 · x_{2} + 1 · x_{3} + 2 · x_{4}$$\n",
    "$$x_{2} = 2 + 1 · x_{3} + 5 · x_{4}$$\n",
    "$$x_{3} = −2 + \\frac{3}{2} · x_{4}$$\n",
    "\n",
    "где x4− произвольное действительное число.\n",
    "\n",
    "Подставив нижние выражения в верхние, получим решение.\n",
    "\n",
    "$$x_{1} = −2 -3 · x_{4}$$\n",
    "$$x_{2} = \\frac{13}{2} · x_{4}$$\n",
    "$$x_{3} = −2 + \\frac{3}{2} · x_{4}$$\n",
    "\n",
    "\n"
   ]
  },
  {
   "cell_type": "code",
   "execution_count": null,
   "metadata": {},
   "outputs": [],
   "source": []
  },
  {
   "cell_type": "markdown",
   "metadata": {},
   "source": [
    "__2.__ Проверить на совместность и выяснить, сколько решений будет иметь система линейных уравнений:\n",
    "\n",
    "   а) $\\begin{cases}\n",
    "3x_{1}-x_{2}+x_{3}=4, \\\\\n",
    "2x_{1}-5x_{2}-3x_{3}=-17, \\\\\n",
    "x_{1}+x_{2}-x_{3}=0;\n",
    "\\end{cases}$\n",
    "    \n",
    "   б) $\\begin{cases}\n",
    "2x_{1}-4x_{2}+6x_{3}=1, \\\\\n",
    "x_{1}-2x_{2}+3x_{3}=-2, \\\\\n",
    "3x_{1}-6x_{2}+9x_{3}=5;\n",
    "\\end{cases}$\n",
    "    \n",
    "   в) $\\begin{cases}\n",
    "x_{1}+2x_{2}+5x_{3}=4, \\\\\n",
    "3x_{1}+x_{2}-8x_{3}=-2. \n",
    "\\end{cases}$\n",
    "\n",
    "\n"
   ]
  },
  {
   "cell_type": "code",
   "execution_count": 4,
   "metadata": {},
   "outputs": [
    {
     "name": "stdout",
     "output_type": "stream",
     "text": [
      "rank А =  3\n",
      "rank b =  3\n",
      "количество уравнений =  3\n"
     ]
    },
    {
     "data": {
      "text/plain": [
       "'Cистема имеет единственное решение'"
      ]
     },
     "execution_count": 4,
     "metadata": {},
     "output_type": "execute_result"
    }
   ],
   "source": [
    "A = np.array([[3, -1, 1], [2, -5, -3], [1, 1, -1]])\n",
    "b = np.array([4, 17, 0]).reshape(-1, 1)\n",
    "calc_solve_count(A, b, 3)"
   ]
  },
  {
   "cell_type": "code",
   "execution_count": 5,
   "metadata": {},
   "outputs": [
    {
     "name": "stdout",
     "output_type": "stream",
     "text": [
      "rank А =  1\n",
      "rank b =  2\n",
      "количество уравнений =  3\n"
     ]
    },
    {
     "data": {
      "text/plain": [
       "'Cистема несовместна'"
      ]
     },
     "execution_count": 5,
     "metadata": {},
     "output_type": "execute_result"
    }
   ],
   "source": [
    "A = np.array([[2, -4, 6], [1, -2, 3], [3, -6, 9]])\n",
    "b = np.array([1, -2, 5]).reshape(-1, 1)\n",
    "calc_solve_count(A, b, 3)"
   ]
  },
  {
   "cell_type": "code",
   "execution_count": 6,
   "metadata": {},
   "outputs": [
    {
     "name": "stdout",
     "output_type": "stream",
     "text": [
      "rank А =  2\n",
      "rank b =  2\n",
      "количество уравнений =  3\n"
     ]
    },
    {
     "data": {
      "text/plain": [
       "array([[ 1,  2,  5],\n",
       "       [ 3,  1, -8]])"
      ]
     },
     "execution_count": 6,
     "metadata": {},
     "output_type": "execute_result"
    }
   ],
   "source": [
    "A = np.array([[1, 2, 5], [3, 1, -8]])\n",
    "b = np.array([4, -2]).reshape(-1, 1)\n",
    "calc_solve_count(A, b, 3)\n",
    "A"
   ]
  },
  {
   "cell_type": "markdown",
   "metadata": {},
   "source": [
    "__3.__ Проверить на совместность и выяснить, сколько решений будет иметь система линейных уравнений, заданная расширенной матрицей\n",
    "\n",
    "$$\\tilde{A}=\\begin{pmatrix}\n",
    "\\left.\\begin{matrix}\n",
    "1 & 3 & -2 & 4\\\\ \n",
    "0 & 5 & 0 & 1\\\\ \n",
    "0 & 0 & 3 & 0\\\\ \n",
    "0 & 0 & 0 & 2\n",
    "\\end{matrix}\\right|\n",
    "\\begin{matrix}\n",
    "3\\\\ \n",
    "2\\\\\n",
    "4\\\\\n",
    "1\n",
    "\\end{matrix}\n",
    "\\end{pmatrix}.$$\n",
    "\n"
   ]
  },
  {
   "cell_type": "code",
   "execution_count": 7,
   "metadata": {},
   "outputs": [
    {
     "name": "stdout",
     "output_type": "stream",
     "text": [
      "rank А =  4\n",
      "rank b =  4\n",
      "количество уравнений =  4\n"
     ]
    },
    {
     "data": {
      "text/plain": [
       "'Cистема имеет единственное решение'"
      ]
     },
     "execution_count": 7,
     "metadata": {},
     "output_type": "execute_result"
    }
   ],
   "source": [
    "A = np.array([[1, 3, -2, 4], [0, 5, 0, 1], [0, 0, 3, 0], [0, 0, 0, 2]])\n",
    "b = np.array([3, 2, 4, 1]).reshape(-1, 1)\n",
    "calc_solve_count(A, b, 4)"
   ]
  },
  {
   "cell_type": "code",
   "execution_count": null,
   "metadata": {},
   "outputs": [],
   "source": []
  },
  {
   "cell_type": "markdown",
   "metadata": {},
   "source": [
    "__4.__ Дана система линейных уравнений, заданная расширенной матрицей\n",
    "\n",
    "$$\\tilde{A}=\\begin{pmatrix}\n",
    "\\left.\\begin{matrix}\n",
    "1 & 2 & 3\\\\ \n",
    "4 & 5 & 6\\\\ \n",
    "7 & 8 & 9\n",
    "\\end{matrix}\\right|\n",
    "\\begin{matrix}\n",
    "a\\\\ \n",
    "b\\\\\n",
    "c\n",
    "\\end{matrix}\n",
    "\\end{pmatrix}.$$\n",
    "\n",
    "Найти соотношение между параметрами $a$, $b$ и $c$, при которых система является несовместной."
   ]
  },
  {
   "cell_type": "code",
   "execution_count": 8,
   "metadata": {},
   "outputs": [
    {
     "name": "stdout",
     "output_type": "stream",
     "text": [
      "rank А =  2\n",
      "rank b =  3\n",
      "количество уравнений =  3\n"
     ]
    },
    {
     "data": {
      "text/plain": [
       "'Cистема несовместна'"
      ]
     },
     "execution_count": 8,
     "metadata": {},
     "output_type": "execute_result"
    }
   ],
   "source": [
    "A = np.array([[1, 2, 3], [4, 5, 6], [7, 8, 9]])\n",
    "b = np.array([1, 3, 1]).reshape(-1, 1)\n",
    "calc_solve_count(A, b, 3)"
   ]
  },
  {
   "cell_type": "code",
   "execution_count": null,
   "metadata": {},
   "outputs": [],
   "source": []
  },
  {
   "cell_type": "code",
   "execution_count": null,
   "metadata": {},
   "outputs": [],
   "source": []
  }
 ],
 "metadata": {
  "kernelspec": {
   "display_name": "Python 3",
   "language": "python",
   "name": "python3"
  },
  "language_info": {
   "codemirror_mode": {
    "name": "ipython",
    "version": 3
   },
   "file_extension": ".py",
   "mimetype": "text/x-python",
   "name": "python",
   "nbconvert_exporter": "python",
   "pygments_lexer": "ipython3",
   "version": "3.7.3"
  }
 },
 "nbformat": 4,
 "nbformat_minor": 2
}
